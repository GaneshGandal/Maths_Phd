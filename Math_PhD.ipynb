{
 "cells": [
  {
   "cell_type": "code",
   "execution_count": 1,
   "metadata": {},
   "outputs": [],
   "source": [
    "import numpy as np"
   ]
  },
  {
   "cell_type": "code",
   "execution_count": 9,
   "metadata": {},
   "outputs": [
    {
     "data": {
      "text/plain": [
       "array([[0., 0., 0., 0., 0., 1.],\n",
       "       [0., 0., 0., 0., 0., 1.],\n",
       "       [0., 0., 0., 0., 0., 1.],\n",
       "       [0., 0., 0., 0., 0., 1.],\n",
       "       [0., 0., 0., 0., 0., 1.],\n",
       "       [1., 1., 1., 1., 1., 0.]])"
      ]
     },
     "execution_count": 9,
     "metadata": {},
     "output_type": "execute_result"
    }
   ],
   "source": [
    "n_V = 6\n",
    "Adj_Mat1 = np.zeros((n_V,n_V))\n",
    "for i in range(n_V):\n",
    "    Adj_Mat1[i][5] = Adj_Mat1[5][i] = 1\n",
    "Adj_Mat1[5][5] = 0\n",
    "Adj_Mat1"
   ]
  },
  {
   "cell_type": "code",
   "execution_count": 17,
   "metadata": {},
   "outputs": [
    {
     "name": "stdout",
     "output_type": "stream",
     "text": [
      "Enter edge for  0 1 :\n",
      "1\n",
      "Enter edge for  0 2 :\n",
      "1\n",
      "Enter edge for  0 3 :\n",
      "0\n",
      "Enter edge for  0 4 :\n",
      "0\n",
      "Enter edge for  0 5 :\n",
      "0\n",
      "Enter edge for  0 6 :\n",
      "1\n",
      "Enter edge for  0 7 :\n",
      "1\n",
      "Enter edge for  1 2 :\n",
      "1\n",
      "Enter edge for  1 3 :\n",
      "1\n",
      "Enter edge for  1 4 :\n",
      "1\n",
      "Enter edge for  1 5 :\n",
      "1\n",
      "Enter edge for  1 6 :\n",
      "1\n",
      "Enter edge for  1 7 :\n",
      "1\n",
      "Enter edge for  2 3 :\n",
      "1\n",
      "Enter edge for  2 4 :\n",
      "0\n",
      "Enter edge for  2 5 :\n",
      "1\n",
      "Enter edge for  2 6 :\n",
      "1\n",
      "Enter edge for  2 7 :\n",
      "1\n",
      "Enter edge for  3 4 :\n",
      "1\n",
      "Enter edge for  3 5 :\n",
      "1\n",
      "Enter edge for  3 6 :\n",
      "0\n",
      "Enter edge for  3 7 :\n",
      "0\n",
      "Enter edge for  4 5 :\n",
      "0\n",
      "Enter edge for  4 6 :\n",
      "1\n",
      "Enter edge for  4 7 :\n",
      "0\n",
      "Enter edge for  5 6 :\n",
      "0\n",
      "Enter edge for  5 7 :\n",
      "0\n",
      "Enter edge for  6 7 :\n",
      "1\n"
     ]
    },
    {
     "data": {
      "text/plain": [
       "array([[0., 1., 1., 0., 0., 0., 1., 1.],\n",
       "       [1., 0., 1., 1., 1., 1., 1., 1.],\n",
       "       [1., 1., 0., 1., 0., 1., 1., 1.],\n",
       "       [0., 1., 1., 0., 1., 1., 0., 0.],\n",
       "       [0., 1., 0., 1., 0., 0., 1., 0.],\n",
       "       [0., 1., 1., 1., 0., 0., 0., 0.],\n",
       "       [1., 1., 1., 0., 1., 0., 0., 1.],\n",
       "       [1., 1., 1., 0., 0., 0., 1., 0.]])"
      ]
     },
     "execution_count": 17,
     "metadata": {},
     "output_type": "execute_result"
    }
   ],
   "source": [
    "n_V = 8\n",
    "Adj_Mat2 = np.zeros((n_V,n_V))\n",
    "for i in range(n_V):\n",
    "    for j in range(i+1,n_V):\n",
    "        print(\"Enter edge for \",i,j,\":\")\n",
    "        e=int(input())\n",
    "        Adj_Mat2[i][j]=Adj_Mat2[j][i]=e\n",
    "Adj_Mat2"
   ]
  },
  {
   "cell_type": "code",
   "execution_count": 142,
   "metadata": {},
   "outputs": [
    {
     "name": "stdout",
     "output_type": "stream",
     "text": [
      "Enter edge for  0 1 :\n",
      "1\n",
      "Enter edge for  0 2 :\n",
      "0\n",
      "Enter edge for  0 3 :\n",
      "0\n",
      "Enter edge for  0 4 :\n",
      "1\n",
      "Enter edge for  1 2 :\n",
      "1\n",
      "Enter edge for  1 3 :\n",
      "0\n",
      "Enter edge for  1 4 :\n",
      "0\n",
      "Enter edge for  2 3 :\n",
      "1\n",
      "Enter edge for  2 4 :\n",
      "1\n",
      "Enter edge for  3 4 :\n",
      "1\n"
     ]
    },
    {
     "data": {
      "text/plain": [
       "array([[0., 1., 0., 0., 1.],\n",
       "       [1., 0., 1., 0., 0.],\n",
       "       [0., 1., 0., 1., 1.],\n",
       "       [0., 0., 1., 0., 1.],\n",
       "       [1., 0., 1., 1., 0.]])"
      ]
     },
     "execution_count": 142,
     "metadata": {},
     "output_type": "execute_result"
    }
   ],
   "source": [
    "n_V = 5\n",
    "Adj_Mat3 = np.zeros((n_V,n_V))\n",
    "for i in range(n_V):\n",
    "    for j in range(i+1,n_V):\n",
    "        print(\"Enter edge for \",i,j,\":\")\n",
    "        e=int(input())\n",
    "        Adj_Mat3[i][j]=Adj_Mat3[j][i]=e\n",
    "Adj_Mat3"
   ]
  },
  {
   "cell_type": "code",
   "execution_count": 59,
   "metadata": {},
   "outputs": [],
   "source": [
    "def get_independent_sets(G):\n",
    "    temp_G = G.copy()\n",
    "    S=set()\n",
    "    for init in range(len(temp_G)):\n",
    "        I = [init]\n",
    "        temp_G[0,:] = temp_G[:,0] = 0\n",
    "        while(temp_G.sum()>0):\n",
    "            v = get_non_adjacent(G,I)\n",
    "            if v==-1:\n",
    "                break\n",
    "            temp_G[v,:] = 0\n",
    "            temp_G[:,v] = 0\n",
    "            I.append(v)\n",
    "        S.add(tuple(set(I)))\n",
    "    return S"
   ]
  },
  {
   "cell_type": "code",
   "execution_count": 35,
   "metadata": {},
   "outputs": [],
   "source": [
    "def get_non_adjacent(G,I): #Finds non_adjacent edges in graph G wrt vertex set I\n",
    "    n = len(G)\n",
    "    for v in range(n):\n",
    "        flag = True\n",
    "        for i in I:\n",
    "            if G[v][i] == 1 or i==v:\n",
    "                flag = False\n",
    "                break\n",
    "        if flag==True:\n",
    "            return v\n",
    "        #print(v,i)\n",
    "        #input()\n",
    "    return -1"
   ]
  },
  {
   "cell_type": "code",
   "execution_count": 62,
   "metadata": {},
   "outputs": [
    {
     "data": {
      "text/plain": [
       "{(0, 3), (0, 4, 5), (1,), (2, 4), (3, 6), (3, 7)}"
      ]
     },
     "execution_count": 62,
     "metadata": {},
     "output_type": "execute_result"
    }
   ],
   "source": [
    "get_independent_sets(Adj_Mat2)"
   ]
  },
  {
   "cell_type": "code",
   "execution_count": 91,
   "metadata": {},
   "outputs": [],
   "source": [
    "def get_odd_cycles(G):\n",
    "    graph = matrix_to_dict(G)\n",
    "    cycles = [[node]+path  for node in graph for path in dfs(graph, node, node)]\n",
    "    return cycles\n",
    "\n",
    "def dfs(graph, start, end):\n",
    "    fringe = [(start, [])]\n",
    "    while fringe:\n",
    "        state, path = fringe.pop()\n",
    "        if path and state == end:\n",
    "            yield path\n",
    "            continue\n",
    "        for next_state in graph[state]:\n",
    "            if next_state in path:\n",
    "                continue\n",
    "            fringe.append((next_state, path+[next_state]))\n",
    "\n",
    "def matrix_to_dict(Matrix):\n",
    "    d1 = {}\n",
    "    for v in range(len(Matrix)):\n",
    "        d1[v] = [i for i in range(len(Matrix)) if Matrix[v][i]==1]\n",
    "    return d1"
   ]
  },
  {
   "cell_type": "code",
   "execution_count": 94,
   "metadata": {},
   "outputs": [],
   "source": [
    "odd_cycles=[i for i in get_odd_cycles(Adj_Mat2) if len(i)%2==0]"
   ]
  },
  {
   "cell_type": "code",
   "execution_count": 144,
   "metadata": {},
   "outputs": [],
   "source": [
    "def is_induced_with_more_than_one_cord(cycle,G):\n",
    "    count=0\n",
    "    temp_G = G.copy()\n",
    "    for i in range(len(G)):\n",
    "        for j in range(len(G)):\n",
    "            if i>j:\n",
    "                temp_G[i][j]=0\n",
    "    s = set()\n",
    "    for v in cycle:\n",
    "        for w in cycle:\n",
    "            if temp_G[v][w]==1:\n",
    "                s.add(tuple(set([v,w])))\n",
    "    if len(s)>len(cycle):\n",
    "        return True\n",
    "    else:\n",
    "        return False\n",
    "\n",
    "def get_induced_odd_cycles_atleast5(G):\n",
    "    l1 = []\n",
    "    odd_cycles=[i for i in get_odd_cycles(G) if len(i)%2==0 and len(i)>4]\n",
    "    for cycle in odd_cycles:\n",
    "        if is_induced_with_more_than_one_cord(cycle,G):\n",
    "            l1.append(cycle)\n",
    "    return l1\n",
    "\n",
    "def is_very_strongly_perfect(G):\n",
    "    cycles = get_induced_odd_cycles_atleast5(G)\n",
    "    if len(cycles)>0:\n",
    "        return True\n",
    "    else:\n",
    "        return False"
   ]
  },
  {
   "cell_type": "code",
   "execution_count": 141,
   "metadata": {},
   "outputs": [
    {
     "data": {
      "text/plain": [
       "True"
      ]
     },
     "execution_count": 141,
     "metadata": {},
     "output_type": "execute_result"
    }
   ],
   "source": [
    "is_very_strongly_perfect(Adj_Mat2)"
   ]
  },
  {
   "cell_type": "code",
   "execution_count": 145,
   "metadata": {},
   "outputs": [
    {
     "data": {
      "text/plain": [
       "False"
      ]
     },
     "execution_count": 145,
     "metadata": {},
     "output_type": "execute_result"
    }
   ],
   "source": [
    "is_very_strongly_perfect(Adj_Mat3)"
   ]
  },
  {
   "cell_type": "code",
   "execution_count": null,
   "metadata": {},
   "outputs": [],
   "source": []
  },
  {
   "cell_type": "code",
   "execution_count": null,
   "metadata": {},
   "outputs": [],
   "source": []
  }
 ],
 "metadata": {
  "kernelspec": {
   "display_name": "Python 3",
   "language": "python",
   "name": "python3"
  },
  "language_info": {
   "codemirror_mode": {
    "name": "ipython",
    "version": 3
   },
   "file_extension": ".py",
   "mimetype": "text/x-python",
   "name": "python",
   "nbconvert_exporter": "python",
   "pygments_lexer": "ipython3",
   "version": "3.7.4"
  }
 },
 "nbformat": 4,
 "nbformat_minor": 2
}
